{
 "cells": [
  {
   "cell_type": "markdown",
   "id": "9a359d59",
   "metadata": {},
   "source": [
    "# Data Science Tools and Ecosystem"
   ]
  },
  {
   "cell_type": "markdown",
   "id": "74405645",
   "metadata": {},
   "source": [
    "<span style= \"font-size:15px;\" > In this notebook, Data Science Tools and Ecosystem are summarized.</span>"
   ]
  },
  {
   "cell_type": "markdown",
   "id": "dae20a2b",
   "metadata": {},
   "source": [
    "**Objectives:** \n",
    "- Introduction to popular Data Science tools\n",
    "- Most common libraries used by Data Scientists\n",
    "- Open source development environment used in Data Science\n",
    "- Introduction to arithmetic expressions"
   ]
  },
  {
   "cell_type": "markdown",
   "id": "8e63ac0c",
   "metadata": {},
   "source": [
    "##### Some of the popular languages that Data Scientists use are:\n",
    "\n",
    "1. Python\n",
    "2. R\n",
    "3. SQL"
   ]
  },
  {
   "cell_type": "markdown",
   "id": "4be2a593",
   "metadata": {},
   "source": [
    "##### Some of the commonly used libraries used by Data Scientists include:\n",
    "1. Pandas\n",
    "2. Scikit-Learn\n",
    "3. NumPy\n",
    "4. Matplotlib\n",
    "5. Seaborn"
   ]
  },
  {
   "cell_type": "markdown",
   "id": "1549c0e8",
   "metadata": {},
   "source": [
    "##### 3 open source development environment used in Data Science\n",
    "\n",
    "|Data Science Tools|\n",
    "|------------------|\n",
    "| Jupyter Notebook |\n",
    "| RStudio          |\n",
    "|Visual Studio Code|"
   ]
  },
  {
   "cell_type": "markdown",
   "id": "001d1d0f",
   "metadata": {},
   "source": [
    "### Below are a few examples of evaluating arithmetic expressions in Python"
   ]
  },
  {
   "cell_type": "markdown",
   "id": "1363c0ba",
   "metadata": {},
   "source": [
    "1. **Addition:** Adds two numbers together. Ex, (1+3) = 4 \n",
    "2. **Subtraction:** finds the difference between 2 numbers. Ex, (10-6) = 4\n",
    "3. **Multiplication:** Multiplies 2 numbers. Ex, (2 * 2) = 4\n",
    "4. **Division:** Divide a number by another number. Ex, (8/2) = 4"
   ]
  },
  {
   "cell_type": "markdown",
   "id": "ec3d90cc",
   "metadata": {},
   "source": [
    "##### This a simple arithmetic expression to mutiply then add integers"
   ]
  },
  {
   "cell_type": "code",
   "execution_count": 1,
   "id": "4e4cc25d",
   "metadata": {},
   "outputs": [
    {
     "name": "stdout",
     "output_type": "stream",
     "text": [
      "17\n"
     ]
    }
   ],
   "source": [
    "arithmetic_exe = (3*4)+5\n",
    "print(arithmetic_exe)"
   ]
  },
  {
   "cell_type": "markdown",
   "id": "ebf4a5bd",
   "metadata": {},
   "source": [
    "##### This will convert 200 minutes to hours by diving by 60"
   ]
  },
  {
   "cell_type": "code",
   "execution_count": 5,
   "id": "05d30d88",
   "metadata": {},
   "outputs": [
    {
     "name": "stdout",
     "output_type": "stream",
     "text": [
      "3\n"
     ]
    }
   ],
   "source": [
    "#convert 200 minutes to hour \n",
    "minutes = 200\n",
    "minutes_in_hour = 60\n",
    "result = minutes / minutes_in_hour\n",
    "print(round(result)) #rounds the result to the nearest integer"
   ]
  },
  {
   "cell_type": "markdown",
   "id": "b3aaf8b5",
   "metadata": {},
   "source": [
    "## Author\n",
    "Syedwasiulhussain\n"
   ]
  }
 ],
 "metadata": {
  "kernelspec": {
   "display_name": "Python 3 (ipykernel)",
   "language": "python",
   "name": "python3"
  },
  "language_info": {
   "codemirror_mode": {
    "name": "ipython",
    "version": 3
   },
   "file_extension": ".py",
   "mimetype": "text/x-python",
   "name": "python",
   "nbconvert_exporter": "python",
   "pygments_lexer": "ipython3",
   "version": "3.11.4"
  }
 },
 "nbformat": 4,
 "nbformat_minor": 5
}
